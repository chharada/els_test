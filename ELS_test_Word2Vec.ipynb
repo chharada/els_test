{
 "cells": [
  {
   "cell_type": "code",
   "execution_count": 1,
   "metadata": {
    "scrolled": true
   },
   "outputs": [
    {
     "name": "stdout",
     "output_type": "stream",
     "text": [
      "Supply Agreement\n",
      "\n",
      "America Incorporated, a corporation duly organized and existing under the laws of the Commonwealth of Massachusetts, the United States of America and having its principal business office at XXX Huntington Avenue, Boston, Massachusetts 02115, the United States of America (hereinafter called \"Seller\") made and entered into this 10th day of January, 2019 by and between \n",
      "Tokyo Limited, a corporation duly organized and existing under the laws of Japan and having its principal business office at X-XX-X, Nagatacho, Chiyoda-ku, Tokyo 100-8924 Japan (hereinafter called \"Buyer\")\n",
      "\n",
      "WHEREAS, Seller desires to sell the product stipulated in Article1. hereof; and\n",
      "WHEREAS, Buyer desires to purchase such product from Seller;\n",
      "NOW, THEREFORE, in consideration of the mutual promises and covenants contained herein, the Parties hereto, intending to be legally bound hereby, agree as follows:\n",
      "\n",
      "The following terms in this Agreement shall have the following meaning unless otherwise specificall\n"
     ]
    }
   ],
   "source": [
    "import nltk\n",
    "\n",
    "#データはサンプル契約書複数をまとめたもの\n",
    "raw = open(\"data/sample_contracts_all.txt\", \"r\").read()\n",
    "tokens = nltk.word_tokenize(raw)\n",
    "text = nltk.Text(tokens)\n",
    "\n",
    "print (raw[:1000])"
   ]
  },
  {
   "cell_type": "code",
   "execution_count": 2,
   "metadata": {},
   "outputs": [
    {
     "data": {
      "text/plain": [
       "['Supply',\n",
       " 'Agreement',\n",
       " 'America',\n",
       " 'Incorporated',\n",
       " ',',\n",
       " 'a',\n",
       " 'corporation',\n",
       " 'duly',\n",
       " 'organized',\n",
       " 'and',\n",
       " 'existing',\n",
       " 'under',\n",
       " 'the',\n",
       " 'laws',\n",
       " 'of',\n",
       " 'the',\n",
       " 'Commonwealth',\n",
       " 'of',\n",
       " 'Massachusetts',\n",
       " ',',\n",
       " 'the',\n",
       " 'United',\n",
       " 'States',\n",
       " 'of',\n",
       " 'America',\n",
       " 'and',\n",
       " 'having',\n",
       " 'its',\n",
       " 'principal',\n",
       " 'business',\n",
       " 'office',\n",
       " 'at',\n",
       " 'XXX',\n",
       " 'Huntington',\n",
       " 'Avenue',\n",
       " ',',\n",
       " 'Boston',\n",
       " ',',\n",
       " 'Massachusetts',\n",
       " '02115',\n",
       " ',',\n",
       " 'the',\n",
       " 'United',\n",
       " 'States',\n",
       " 'of',\n",
       " 'America',\n",
       " '(',\n",
       " 'hereinafter',\n",
       " 'called',\n",
       " '``']"
      ]
     },
     "execution_count": 2,
     "metadata": {},
     "output_type": "execute_result"
    }
   ],
   "source": [
    "tokens[:50]"
   ]
  },
  {
   "cell_type": "code",
   "execution_count": 3,
   "metadata": {},
   "outputs": [
    {
     "data": {
      "text/plain": [
       "1427"
      ]
     },
     "execution_count": 3,
     "metadata": {},
     "output_type": "execute_result"
    }
   ],
   "source": [
    "#tokenの正規化と種類数\n",
    "tokens_l = [w.lower() for w in tokens]\n",
    "len(set(tokens_l))"
   ]
  },
  {
   "cell_type": "code",
   "execution_count": null,
   "metadata": {},
   "outputs": [],
   "source": [
    "#単語の出現回数\n",
    "#tokens_l.count('agent')"
   ]
  },
  {
   "cell_type": "code",
   "execution_count": null,
   "metadata": {},
   "outputs": [],
   "source": [
    "#単語が含まれる文章\n",
    "#text.concordance('agency')"
   ]
  },
  {
   "cell_type": "code",
   "execution_count": 4,
   "metadata": {
    "scrolled": true
   },
   "outputs": [
    {
     "name": "stdout",
     "output_type": "stream",
     "text": [
      "['supply',\n",
      " 'america',\n",
      " 'incorporated',\n",
      " 'corporation',\n",
      " 'duly',\n",
      " 'organized',\n",
      " 'existing',\n",
      " 'laws',\n",
      " 'commonwealth',\n",
      " 'massachusetts',\n",
      " 'united',\n",
      " 'states',\n",
      " 'america',\n",
      " 'principal',\n",
      " 'business',\n",
      " 'office',\n",
      " 'xxx',\n",
      " 'huntington',\n",
      " 'avenue',\n",
      " 'boston',\n",
      " 'massachusetts',\n",
      " '02115',\n",
      " 'united',\n",
      " 'states',\n",
      " 'america',\n",
      " 'hereinafter',\n",
      " 'called',\n",
      " 'seller',\n",
      " 'made',\n",
      " 'entered',\n",
      " '10th',\n",
      " 'day',\n",
      " 'january',\n",
      " '2019',\n",
      " 'tokyo',\n",
      " 'limited',\n",
      " 'corporation',\n",
      " 'duly',\n",
      " 'organized',\n",
      " 'existing',\n",
      " 'laws',\n",
      " 'japan',\n",
      " 'principal',\n",
      " 'business',\n",
      " 'office',\n",
      " 'x-xx-x',\n",
      " 'nagatacho',\n",
      " 'chiyoda-ku',\n",
      " 'tokyo',\n",
      " '100-8924']\n"
     ]
    }
   ],
   "source": [
    "#ストップワードの除去\n",
    "from nltk.corpus import stopwords\n",
    "from nltk.tokenize import word_tokenize\n",
    "from pprint import pprint  # pretty-printer\n",
    "\n",
    "stop_words = set(stopwords.words('english_els'))\n",
    "filtered = [w for w in tokens_l if w not in stop_words]\n",
    "\n",
    "filtered = []\n",
    "\n",
    "for w in tokens_l:\n",
    "    if w not in stop_words:\n",
    "        filtered.append(w)\n",
    "\n",
    "pprint(filtered[:50])"
   ]
  },
  {
   "cell_type": "code",
   "execution_count": null,
   "metadata": {},
   "outputs": [],
   "source": [
    "#pprint(stop_words)"
   ]
  },
  {
   "cell_type": "code",
   "execution_count": 5,
   "metadata": {},
   "outputs": [
    {
     "name": "stdout",
     "output_type": "stream",
     "text": [
      "<FreqDist with 1324 samples and 6447 outcomes>\n"
     ]
    },
    {
     "data": {
      "text/plain": [
       "[('vendor', 135),\n",
       " ('service', 66),\n",
       " ('products', 63),\n",
       " ('distributor', 60),\n",
       " ('date', 56),\n",
       " ('agent', 55),\n",
       " ('notice', 51),\n",
       " ('services', 46),\n",
       " ('provider', 46),\n",
       " ('provision', 42),\n",
       " ('subject', 40),\n",
       " ('termination', 40),\n",
       " ('term', 39),\n",
       " ('seller', 38),\n",
       " ('right', 37),\n",
       " ('effective', 36),\n",
       " ('territory', 36),\n",
       " ('days', 36),\n",
       " ('obligations', 36),\n",
       " ('buyer', 34),\n",
       " ('written', 34),\n",
       " ('within', 34),\n",
       " ('business', 31),\n",
       " ('product', 30),\n",
       " ('upon', 30),\n",
       " ('rights', 30),\n",
       " ('may', 30),\n",
       " ('connection', 30),\n",
       " ('use', 29),\n",
       " ('time', 27),\n",
       " ('information', 26),\n",
       " ('including', 26),\n",
       " ('expiration', 26),\n",
       " ('writing', 25),\n",
       " ('prior', 25),\n",
       " ('provided', 24),\n",
       " ('delivery', 24),\n",
       " ('warranty', 24),\n",
       " ('arbitration', 24),\n",
       " ('terms', 23),\n",
       " ('case', 22),\n",
       " ('force', 22),\n",
       " ('confidential', 22),\n",
       " ('receipt', 22),\n",
       " ('received', 22),\n",
       " ('unless', 21),\n",
       " ('order', 21),\n",
       " ('set', 21),\n",
       " ('deemed', 21),\n",
       " ('terminate', 21)]"
      ]
     },
     "execution_count": 5,
     "metadata": {},
     "output_type": "execute_result"
    }
   ],
   "source": [
    "#ストップワード除去語の頻出語\n",
    "from nltk import FreqDist\n",
    "\n",
    "freq_word = FreqDist(filtered)\n",
    "print (freq_word)\n",
    "\n",
    "vocabulary = freq_word.keys()\n",
    "freq_word.most_common(50)"
   ]
  },
  {
   "cell_type": "code",
   "execution_count": null,
   "metadata": {},
   "outputs": [],
   "source": [
    "#単語のタグ付け\n",
    "#tagged = nltk.pos_tag(filtered)\n",
    "#tagged[:50]"
   ]
  },
  {
   "cell_type": "code",
   "execution_count": null,
   "metadata": {},
   "outputs": [],
   "source": [
    "#text = nltk.Text(filtered)\n",
    "\n",
    "#print (text)"
   ]
  },
  {
   "cell_type": "code",
   "execution_count": 6,
   "metadata": {},
   "outputs": [],
   "source": [
    "corpus = [sentence.split() for sentence in filtered]"
   ]
  },
  {
   "cell_type": "code",
   "execution_count": 7,
   "metadata": {},
   "outputs": [],
   "source": [
    "from gensim.models import word2vec\n",
    "\n",
    "#モデルを作る\n",
    "model = word2vec.Word2Vec(corpus, size=100, min_count=1)"
   ]
  },
  {
   "cell_type": "code",
   "execution_count": 8,
   "metadata": {},
   "outputs": [
    {
     "name": "stdout",
     "output_type": "stream",
     "text": [
      "[('separate', 0.3741871118545532),\n",
      " ('activities', 0.32002365589141846),\n",
      " ('availability', 0.319433331489563),\n",
      " ('lower', 0.3050469160079956),\n",
      " ('tokyo', 0.3008460998535156),\n",
      " ('continues', 0.2769545912742615),\n",
      " ('procedures', 0.2690470218658447),\n",
      " ('scope', 0.2641329765319824),\n",
      " ('united', 0.26366299390792847),\n",
      " ('potential', 0.26053449511528015)]\n"
     ]
    },
    {
     "name": "stderr",
     "output_type": "stream",
     "text": [
      "/anaconda3/lib/python3.6/site-packages/gensim/matutils.py:737: FutureWarning: Conversion of the second argument of issubdtype from `int` to `np.signedinteger` is deprecated. In future, it will be treated as `np.int64 == np.dtype(int).type`.\n",
      "  if np.issubdtype(vec.dtype, np.int):\n"
     ]
    }
   ],
   "source": [
    "# 類似している単語を見る\n",
    "similar_words = model.wv.most_similar(positive=[\"vendor\"], topn=10)\n",
    "pprint(similar_words)"
   ]
  }
 ],
 "metadata": {
  "kernelspec": {
   "display_name": "Python 3",
   "language": "python",
   "name": "python3"
  },
  "language_info": {
   "codemirror_mode": {
    "name": "ipython",
    "version": 3
   },
   "file_extension": ".py",
   "mimetype": "text/x-python",
   "name": "python",
   "nbconvert_exporter": "python",
   "pygments_lexer": "ipython3",
   "version": "3.6.6"
  }
 },
 "nbformat": 4,
 "nbformat_minor": 2
}
